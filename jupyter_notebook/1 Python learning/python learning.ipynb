{
 "cells": [
  {
   "cell_type": "code",
   "execution_count": null,
   "id": "2a9fbc4e",
   "metadata": {},
   "outputs": [],
   "source": [
    "###Y为code模式，M为markdown模式###"
   ]
  },
  {
   "cell_type": "code",
   "execution_count": null,
   "id": "c3da0f65",
   "metadata": {},
   "outputs": [],
   "source": [
    "###字符串###"
   ]
  },
  {
   "cell_type": "code",
   "execution_count": 1,
   "id": "20811753",
   "metadata": {},
   "outputs": [
    {
     "name": "stdout",
     "output_type": "stream",
     "text": [
      "\tpython\n",
      "python\n",
      "\\nbalal\n",
      "    python\n",
      "python    \n",
      "python\n",
      "88667python7\n",
      "7python76688\n",
      "7python7\n",
      "He's 8 years old\n"
     ]
    }
   ],
   "source": [
    "#字符串大小写\n",
    "name = \"abc\";\n",
    "Name = name.title(); #首大\n",
    "NAME = name.upper(); #全大\n",
    "name = name.lower(); #全小\n",
    "\n",
    "#字符串换行，制表\n",
    "t = '\\tpython'; #tab\n",
    "n = '\\npython'; #换行\n",
    "print(t+n);\n",
    "print(r'\\nbalal'); #原始字符串\n",
    "\n",
    "#字符串删空白或删其他 “right strip\"\"left strip\"\"strip\"\n",
    "p = \"    python    \";\n",
    "print(p.rstrip( ));\n",
    "print(p.lstrip( ));\n",
    "print(p.strip( ));\n",
    "\n",
    "p8 = \"88667python76688\"\n",
    "print(p8.rstrip(\"86\"));\n",
    "print(p8.lstrip(\"86\"));\n",
    "print(p8.strip(\"86\"));\n",
    "\n",
    "#将其他类型转为字符串 ”str（）“\n",
    "age = 8\n",
    "print(\"He's \"+ str(age) +\" years old\")\n",
    "\n",
    "\n"
   ]
  },
  {
   "cell_type": "code",
   "execution_count": null,
   "id": "7f5ac9cb",
   "metadata": {},
   "outputs": [],
   "source": [
    "###字符串格式化###\n",
    "      %c\t 格式化字符及其ASCII码\n",
    "      %s\t 格式化字符串\n",
    "      %d\t 格式化整数\n",
    "      %u\t 格式化无符号整型\n",
    "      %o\t 格式化无符号八进制数\n",
    "      %x\t 格式化无符号十六进制数\n",
    "      %X\t 格式化无符号十六进制数（大写）\n",
    "      %f\t 格式化浮点数字，可指定小数点后的精度\n",
    "      %e\t 用科学计数法格式化浮点数\n",
    "      %E\t 作用同%e，用科学计数法格式化浮点数\n",
    "      %g\t %f和%e的简写\n",
    "      %G\t %f 和 %E 的简写\n",
    "      %p\t 用十六进制数格式化变量的地址"
   ]
  },
  {
   "cell_type": "code",
   "execution_count": 59,
   "id": "7fa7e7b5",
   "metadata": {},
   "outputs": [
    {
     "name": "stdout",
     "output_type": "stream",
     "text": [
      "Number is 22 years old , and weight is 62.512 KG \n",
      "Number is 22 years old , and weight is 62.512 KG\n",
      "Number is 22 years old , and weight is 62.512 KG\n"
     ]
    }
   ],
   "source": [
    "#旧1 %formatting(用 %s 表字符串，%d 表整数，%f 表浮点数)\n",
    "name = 'Number'\n",
    "age = 22\n",
    "weight = 62.512\n",
    "people = {'name':'Number' , 'age':22 , 'weight':62.512}\n",
    "print('%s is %d years old , and weight is %.3f KG '%(name , age , weight)) \n",
    "\n",
    "#旧2 str.format()(用 {} 表示要填充的内容)\n",
    "print('{} is {} years old , and weight is {:.3f} KG'.format(name , age , weight))\n",
    "\n",
    "#新 f-string\n",
    "print(f'{name} is {age} years old , and weight is {weight:.3f} KG')\n",
    "\n"
   ]
  },
  {
   "cell_type": "code",
   "execution_count": null,
   "id": "29797459",
   "metadata": {},
   "outputs": [],
   "source": [
    "###列表###"
   ]
  },
  {
   "cell_type": "code",
   "execution_count": 42,
   "id": "863ad42b",
   "metadata": {},
   "outputs": [
    {
     "name": "stdout",
     "output_type": "stream",
     "text": [
      "['a', 'b', 'c', 'd']\n",
      "a\n",
      "D\n",
      "D\n",
      "['z', 'b', 'c', 'd']\n",
      "['z', 'b', 'c', 'd', 'e']\n",
      "['z', 'a', 'b', 'c', 'd', 'e']\n",
      "['a', 'b', 'c', 'd', 'e']\n",
      "e c ['a', 'b', 'd']\n",
      "['b', 'd']\n",
      "['a', 'g', 'j', 'l', 's', 'v']\n",
      "['v', 's', 'g', 'a', 'j', 'l']\n",
      "['v', 's', 'l', 'j', 'g', 'a']\n",
      "['BMW', 'Audi', 'Volvo', 'Porsche']\n"
     ]
    }
   ],
   "source": [
    "#创建列表\n",
    "bicycles = ['a','b','c','d']\n",
    "print(bicycles)\n",
    "\n",
    "#访问列表\n",
    "print(bicycles[0])\n",
    "print(bicycles[-1].upper())\n",
    "print(bicycles[3].title())\n",
    "\n",
    "#修改列表元素\n",
    "bicycles[0] = 'z'\n",
    "print(bicycles)\n",
    "\n",
    "#末尾添加元素”.append（）“\n",
    "bicycles.append('e')\n",
    "print(bicycles)\n",
    "\n",
    "#插入新元素\n",
    "bicycles.insert(1, 'a')\n",
    "print(bicycles)\n",
    "\n",
    "#删除元素\" del \"\n",
    "del bicycles[0]\n",
    "print(bicycles)\n",
    "\n",
    "#弹出元素”.pop()“\n",
    "bic1 = bicycles.pop() #弹出栈顶 e\n",
    "bic2 = bicycles.pop(2) #弹出指定位置 c\n",
    "print(bic1,bic2,bicycles)\n",
    "\n",
    "#移除指定元素”.remove()“\n",
    "bicycles.remove(\"a\")\n",
    "print(bicycles)\n",
    "\n",
    "#按字母顺序排序 ”.sort()“[对同一大小写]\n",
    "test = ['v','s','g','a','j','l']\n",
    "print(sorted(test)) #临时排序\n",
    "print(test)\n",
    "test.sort(reverse=True) #永久排序，倒序\n",
    "print(test)\n",
    "\n",
    "#按照值的长度对列表进行排序：\n",
    "# 返回值的长度的函数：\n",
    "def myFunc(e):\n",
    " return len(e) #确定列表，字符串长度\n",
    "\n",
    "cars = ['Porsche', 'Audi', 'BMW', 'Volvo']\n",
    "\n",
    "cars.sort(key=myFunc) #用自己规定的函数潘旭【字符串长度】\n",
    "print(cars)"
   ]
  },
  {
   "cell_type": "code",
   "execution_count": 56,
   "id": "cdbcfb58",
   "metadata": {},
   "outputs": [
    {
     "name": "stdout",
     "output_type": "stream",
     "text": [
      "Porsche\n",
      "Audi\n",
      "BMW\n",
      "Volvo\n",
      "\tover\n",
      "0\n",
      "1\n",
      "2\n",
      "3\n",
      "4\n",
      "5\n",
      "6\n",
      "7\n",
      "0\n",
      "2\n",
      "4\n",
      "6\n",
      "[0, 1, 2, 3, 4, 5, 6, 7]\n",
      "[0, 1, 4, 9, 16, 25, 36, 49]\n",
      "[0, 1, 4, 9, 16, 25, 36, 49]\n",
      "0\n",
      "49\n",
      "140\n",
      "['Porsche', 'Audi', 'BMW']\n",
      "['Porsche', 'Audi', 'BMW']\n",
      "['Porsche', 'Audi', 'BMW']\n",
      "['BMW', 'Volvo']\n",
      "Audi\n",
      "BMW\n",
      "['Porsche', 'Audi', 'BMW', 'Volvo']\n"
     ]
    }
   ],
   "source": [
    "#遍历列表\n",
    "cars = ['Porsche', 'Audi', 'BMW', 'Volvo']\n",
    "for car in cars:\n",
    "    print(car)\n",
    "print('\\tover')\n",
    "\n",
    "#创造数字”range（star , stop , step）“\n",
    "for value in range(0,8): #遍历\n",
    "    print(value)\n",
    "for value in range(0,8,2): #用步长遍历成偶数\n",
    "    print(value)\n",
    "\n",
    "#创建数字列表”list（）“\n",
    "print(list(range(0,8))) \n",
    "\n",
    "\"\"\"应用（将平方存入列表）\"\"\"\n",
    "squares = []\n",
    "for value in range(0,8):\n",
    "    square = value**2\n",
    "    squares.append(square)\n",
    "print(squares)\n",
    "\n",
    "\"\"\"等价于\"\"\"\n",
    "squares = [value**2 for value in range(0,8)]\n",
    "print(squares)\n",
    "\"\"\"\"\"\"\"\"\"\"\"\"\"\"\"\"\"\"\"\"\"\"\"\"\"\"\"\"\"\"\"\"\"\"\"\"\"\"\"\"\"\"\n",
    "\n",
    "#处理数字列表“min（），max（），sum（）”\n",
    "print(min(squares))\n",
    "print(max(squares))\n",
    "print(sum(squares))\n",
    "\n",
    "#切片\n",
    "cars = ['Porsche', 'Audi', 'BMW', 'Volvo']\n",
    "print(cars[0:3])\n",
    "print(cars[0:-1])\n",
    "print(cars[:3])\n",
    "print(cars[-2:])\n",
    "\n",
    "for car in cars[1:3]:\n",
    "    print(car)\n",
    "\n",
    "    \n",
    "#复制列表“将整个切片赋值给另一个列表”\n",
    "cars1 = cars[:]\n",
    "print(cars1)"
   ]
  },
  {
   "cell_type": "code",
   "execution_count": null,
   "id": "439989f3",
   "metadata": {},
   "outputs": [],
   "source": [
    "###元组###“不可更改，性能好，占内存小”"
   ]
  },
  {
   "cell_type": "code",
   "execution_count": 60,
   "id": "69a53c62",
   "metadata": {},
   "outputs": [
    {
     "name": "stdout",
     "output_type": "stream",
     "text": [
      "1949\n",
      "CHINA\n",
      "2022\n",
      "1\n",
      "11\n",
      "18.46\n"
     ]
    }
   ],
   "source": [
    "country = ('CHINA',1949,[2022 , 1 , 11 , 18.46])\n",
    "print(country[1])\n",
    "for i in country[:1]:\n",
    "    print(i)\n",
    "    for j in country[2]:\n",
    "        print(j)\n",
    "    \n",
    "    "
   ]
  },
  {
   "cell_type": "code",
   "execution_count": 6,
   "id": "72fd5bd0",
   "metadata": {},
   "outputs": [
    {
     "name": "stdout",
     "output_type": "stream",
     "text": [
      "BMW\n",
      "Audi\n",
      "Honda\n",
      "BWM in the list\n",
      "BWM in the list\n",
      "Audi in the list\n",
      "Add some car brand: Honda\n"
     ]
    }
   ],
   "source": [
    "###if条件语句###\n",
    "\n",
    "\"\"\"if检查的True和False\"\"\"\n",
    "cars = ['Porsche', 'Audi', 'BMW', 'Volvo']\n",
    "for i in cars:\n",
    "    if len(i)==3: #if用于检查True & False\n",
    "        print(i)\n",
    "\"\"\"( != , == , &[and] , |[or] , ^[异或] ， ~[反] , >>[左移] ， <<[右移])\"\"\"\n",
    "\n",
    "\"\"\"\"\"\"\"\"\"\"\"\"\"\"\"\"\"\"\"\"\"\"\"\"\"\"\"\"\"\"\"\"\"\"\"\"\"\"\"\"\"\"\"\"\"\"\"\"\"\"\"\"\"\"\n",
    "if 'Audi' in cars: #if用于检查东西在不在列表\n",
    "    print('Audi')\n",
    "\n",
    "if 'Honda' not in cars: \n",
    "    print('Honda')\n",
    "\"\"\"\"\"\"\"\"\"\"\"\"\"\"\"\"\"\"\"\"\"\"\"\"\"\"\"\"\"\"\"\"\"\"\"\"\"\"\"\"\"\"\"\"\"\"\"\"\"\"\"\"\"\"\n",
    "\n",
    "\"\"\"( [if...else](用于如果，否则) , [if ...elif...else]（用于如果这，否则这，否则） , [if...if...if]（用于如果这，如果那） )\"\"\"\n",
    "if 'BMW' in cars:\n",
    "    print('BWM in the list')\n",
    "elif 'Audi' in cars:\n",
    "    print(\"Audi in the list\") #用 if...elif...else 在if为真时将跳过其余\n",
    "else:\n",
    "    print('All right')\n",
    "\"\"\"\"\"\"\"\"\"\"\"\"\"\"\"\"\"\"\"\"\"\"\"\"\"\"\"\"\"\"\"\"\"\"\"\"\"\"\"\"\"\"\"\"\"\"\"\"\"\"\"\"\"\"\n",
    "if 'BMW' in cars:\n",
    "    print('BWM in the list')\n",
    "if 'Audi' in cars:\n",
    "    print(\"Audi in the list\") #用 if...if 将执行所有if\n",
    "else:\n",
    "    print('All right')\n",
    "    \n",
    "\"\"\"if检查列表是否为空（空False，不空True）\"\"\"\n",
    "cars = []\n",
    "if cars:\n",
    "    pass  #是为了保持程序结构的完整性。不做任何事情，一般用做占位语句。\n",
    "else:\n",
    "    brand = input(\"Add some car brand: \") #屏幕输入\n",
    "    cars.append(brand)\n",
    "    \n",
    "\"\"\" + - * / ** % // > < >= <=\"\"\""
   ]
  },
  {
   "cell_type": "code",
   "execution_count": null,
   "id": "5ee8428d",
   "metadata": {},
   "outputs": [],
   "source": [
    "###循环（for为遍历 ，while为循环 ，break为跳出整个循环 ， continue为跳过下面步骤 ， else为当for为空【False】或while条件变为【False】）###"
   ]
  },
  {
   "cell_type": "code",
   "execution_count": 9,
   "id": "d76108d1",
   "metadata": {},
   "outputs": [
    {
     "name": "stdout",
     "output_type": "stream",
     "text": [
      "p\n",
      "u\n",
      "r\n",
      "p\n",
      "e\n",
      "r\n",
      " \n",
      "m\n",
      "n\n",
      "l\n",
      "i\n",
      "9\n",
      "8\n",
      "7\n",
      "5\n"
     ]
    }
   ],
   "source": [
    "\"\"\"for循环遍历与break和continue的演示\"\"\"\n",
    "str = \"purper moonlight\" #也可以是列表，元组，字典等等\n",
    "for i in str:\n",
    "    if i == \"o\":\n",
    "        continue\n",
    "    if i == \"g\":\n",
    "        break\n",
    "    print(i)\n",
    "\"\"\"\"\"\"\"\"\"\"\"\"\"\"\"\"\"\"\"\"\"\"\"\"\"\"\"\"\"\"\"\"\"\"\"\"\"\"\"\"\"\"\n",
    "\n",
    "\"\"\"while循环与break和continue和else的演示\"\"\"\n",
    "value = 10\n",
    "while value>3:\n",
    "    value -= 1\n",
    "    if value == 6:\n",
    "        continue\n",
    "    if value == 4:\n",
    "        break\n",
    "    print(value)\n",
    "else: #############break不会激活else\n",
    "    print(\"666\")\n",
    "    "
   ]
  },
  {
   "cell_type": "code",
   "execution_count": 3,
   "id": "3e2dbac0",
   "metadata": {},
   "outputs": [
    {
     "name": "stdout",
     "output_type": "stream",
     "text": [
      "1\n",
      "2 3 4 stop\n"
     ]
    }
   ],
   "source": [
    "###迭代器###（一步一步的遍历，直到最后没值了返回StopIteration）【iter()生成迭代器 ； next()迭代器移到下一步】\n",
    "val = [1 , 2 , 3 , 4 ]\n",
    "v = iter(val)\n",
    "print(next(v))\n",
    "\n",
    "#也可直接用for遍历 \n",
    "for i in v:\n",
    "    print(i , end = ' ')\n",
    "\"\"\"注:为何输出 1 没有重复吗，因为迭代器有记忆功能，用next（）后，迭代器的起点就是2了\"\"\"\n",
    "\n",
    "#遍历尽后会返回Stopiterate\n",
    "'''while 1:\n",
    "    print(next(v))'''\n",
    "    \n",
    "#所以可以用调试函数来遍历\n",
    "while 1:\n",
    "    try:\n",
    "        print(next(v))\n",
    "    except StopIteration:\n",
    "        print(\"stop\")\n",
    "        break\n",
    "'''注：为何只输出stop，因为迭代器进行for循环也会记忆，所以已经迭代完了，出来StopIterate了'''"
   ]
  },
  {
   "cell_type": "code",
   "execution_count": null,
   "id": "743a1f41",
   "metadata": {},
   "outputs": [],
   "source": [
    "###生成器###（取代return，不同于return执行完全部，yield用next（函数）一步一步返回值，并且有记忆）"
   ]
  },
  {
   "cell_type": "code",
   "execution_count": null,
   "id": "92efe7ee",
   "metadata": {},
   "outputs": [],
   "source": [
    "###字典###"
   ]
  },
  {
   "cell_type": "code",
   "execution_count": 6,
   "id": "e8df1b17",
   "metadata": {},
   "outputs": [
    {
     "name": "stdout",
     "output_type": "stream",
     "text": [
      "GuangDong\n",
      "{'name': 'GuangDong', 'coodinate': (23.13, 1170.19), 'population': 12601.25}\n",
      "{'name': 'Guangdong', 'coodinate': (23.13, 1170.19), 'population': 12601.25}\n",
      "{'name': 'Guangdong', 'population': 12601.25}\n",
      "dict_items([('name', 'Guangdong'), ('population', 12601.25)])\n",
      "('name', 'Guangdong')\n",
      "('population', 12601.25)\n",
      "\n",
      "key:  name\n",
      "value:  Guangdong\n",
      "\n",
      "key:  population\n",
      "value:  12601.25\n",
      "\n",
      "key: name\n",
      "\n",
      "key: population\n",
      "\n",
      "value Python\n",
      "\n",
      "value Java\n",
      "\n",
      "value C\n",
      "\n",
      "value Python\n",
      "\n",
      "value C\n",
      "\n",
      "value Python\n",
      "\n",
      "value Java\n"
     ]
    }
   ],
   "source": [
    " #创建字典\n",
    "gd = {'name':'GuangDong','coodinate':(23.13,1170.19),}\n",
    "\n",
    "#访问字典\n",
    "print(gd['name'])\n",
    "\n",
    "#添加键值对\n",
    "gd['population'] = 12601.25\n",
    "print(gd)\n",
    "\n",
    "#更改字典\n",
    "gd['name'] = 'Guangdong'\n",
    "print(gd)\n",
    "\n",
    "#删除键值对（亦可删除字典 【del（dict）】）\n",
    "del gd['coodinate']\n",
    "print(gd)\n",
    "\n",
    "#遍历字典（【.items()将字典表达为元组的列表，用来遍历】）\n",
    "print(gd.items())\n",
    "\n",
    "for i in gd.items():\n",
    "    print(i)\n",
    "    \n",
    "for key, value in gd.items():\n",
    "    print(\"\\nkey: \",key)\n",
    "    print(\"value: \",value)\n",
    "    \n",
    "#遍历字典的建（不确保顺序）【.keys()将字典的键提取成列表，“注遍历字典默认为提取键”】\n",
    "for key in gd.keys():\n",
    "    print(\"\\nkey:\" , key)\n",
    "    #若要确保顺序，则可以在for循环中套上“for key in sorted(gd.key():)”\n",
    "\n",
    "#遍历字典的值（不确保顺序）【.values()将字典的值提取成列表】\n",
    "languages = {\"T\":\"Python\" , 'F':\"Java\" , 'G':'C' , 'K':'Python'}\n",
    "for value in languages.values():  #但是会输出重复的值\n",
    "    print(\"\\nvalue\" , value)  \n",
    "    \n",
    "#遍历字典的值，用集合筛除重复的值【set()创建集合，集合为一个无序的不重复元素序列】\n",
    "for value in set(languages.values()):  #但是会输出重复的值\n",
    "    print(\"\\nvalue\" , value) "
   ]
  },
  {
   "cell_type": "code",
   "execution_count": null,
   "id": "8bd62d47",
   "metadata": {},
   "outputs": [],
   "source": [
    "###集合###"
   ]
  },
  {
   "cell_type": "code",
   "execution_count": 10,
   "id": "662c2d9f",
   "metadata": {},
   "outputs": [
    {
     "name": "stdout",
     "output_type": "stream",
     "text": [
      "{(6, 7), 66, 20.16, 'a', 'b', 'g'}\n",
      "{66, 'g', 'zzz', 'Y', (6, 7), 'U', 20.16, 'a', 'b'}\n"
     ]
    }
   ],
   "source": [
    "#创建集合【set()创建空集合】\n",
    "collection = {'b','a','g',66,20.16,(6,7)}\n",
    "print(collection)\n",
    "\n",
    "#添加元素【.add()可以增加任何变量 ， .update()可以增加字典，列表，元组】\n",
    "collection.add('zzz')\n",
    "collection.update({'Y':6 , 'U':7})\n",
    "print(collection)\n",
    "\n",
    "#删除元素【.remove()移除集合中存在项，若不存在会报错 ， .discard()移除集合中项，不存在不会报错 ， .pop()任意弹出项】\n",
    "#清空集合【.clear()】\n"
   ]
  },
  {
   "cell_type": "code",
   "execution_count": 11,
   "id": "34e6afcc",
   "metadata": {},
   "outputs": [
    {
     "name": "stdout",
     "output_type": "stream",
     "text": [
      "User name: tony\n",
      "User password: 666\n",
      "Would you like to add more users ? (yes/no)yes\n",
      "User name: dadi\n",
      "User password: 777\n",
      "Would you like to add more users ? (yes/no)yes\n",
      "User name: bob\n",
      "User password: 546\n",
      "Would you like to add more users ? (yes/no)no\n",
      "{'tony': '666', 'dadi': '777', 'bob': '546'}\n"
     ]
    }
   ],
   "source": [
    "###键盘输入###（input（））\n",
    "\"\"\"用输入来填字典\"\"\"\n",
    "user = {}\n",
    "adduser = True  #标志，用来判断循环条件\n",
    "\n",
    "while adduser:\n",
    "    name = input('User name: ')\n",
    "    password = input('User password: ')\n",
    "    user[name] = password\n",
    "    \n",
    "    repeat = input('Would you like to add more users ? (yes/no)')\n",
    "    if repeat == 'no':\n",
    "        adduser = False\n",
    "        \n",
    "print(user)\n",
    "        \n"
   ]
  },
  {
   "cell_type": "code",
   "execution_count": null,
   "id": "bb24dde8",
   "metadata": {},
   "outputs": [],
   "source": [
    "###函数###"
   ]
  },
  {
   "cell_type": "code",
   "execution_count": 41,
   "id": "b19154ef",
   "metadata": {},
   "outputs": [
    {
     "name": "stdout",
     "output_type": "stream",
     "text": [
      "6 4 (8, 9, 7) {'a': 5, 'b': 9, 'c': 7} 9\n",
      "6\n",
      "4\n",
      "8\n",
      "9\n",
      "7\n",
      "a\n",
      "b\n",
      "c\n",
      "9\n",
      "\n",
      "\n",
      "10\n"
     ]
    }
   ],
   "source": [
    "#定义函数（注意位置参数，关键词参数，默认参数，不定长参数【*name为元组（可以不指定参数），**name为字典（要用关键词参数）】）\n",
    "\"\"\"注默认参数放在**name后面会报错，因为将会无法界定哪些参数存进字典里\"\"\"\n",
    "def values(num1 , num2 , *nums3 , num5 = 9 , **nums4):\n",
    "    print(num1 , num2 , nums3 , nums4 , num5)\n",
    "    print(num1)\n",
    "    print(num2)\n",
    "    for n3 in nums3:\n",
    "        print(n3)\n",
    "    for n4 in nums4:\n",
    "        print(n4)\n",
    "    print(num5)\n",
    "    \n",
    "values(6,4,8,9,7,a=5,b=9,c=7)\n",
    "\n",
    "#匿名函数（lambda arg ：expression）【用来对函数进行二次运算】\n",
    "def sum(n):\n",
    "    return lambda a : a*n\n",
    "\n",
    "\"\"\" sum_step = lambda a : a*2 \"\"\"\n",
    "sum_step = sum(2)\n",
    "sum_sum = sum_step(5) \n",
    "print('\\n')\n",
    "print(sum_sum)\n",
    "\n",
    "#返回值（return（））”可以返回任何值，包括字典，列表，元组，集合，匿名函数等“\n",
    "\n",
    "#在一个.py文件中写函数，可在主程序中用 import 文件名 ，import 文件名 as 名 ， from 文件名 import 函数名 ， from 文件名 import * 调用\n",
    " "
   ]
  },
  {
   "cell_type": "code",
   "execution_count": 42,
   "id": "4ea5cb36",
   "metadata": {},
   "outputs": [],
   "source": [
    "###类###"
   ]
  },
  {
   "cell_type": "code",
   "execution_count": 85,
   "id": "c23373d7",
   "metadata": {},
   "outputs": [
    {
     "name": "stdout",
     "output_type": "stream",
     "text": [
      "Dog eating fish\n",
      "Dog is sleeping\n",
      "Cat eating bone\n",
      "Cat is sleeping\n",
      "The doggie fat eating bone\n",
      "The doggie fat is sleeping\n",
      "The doggie fat is sleeping\n",
      "animal is sleeping\n"
     ]
    },
    {
     "ename": "NameError",
     "evalue": "name 'year' is not defined",
     "output_type": "error",
     "traceback": [
      "\u001b[1;31m---------------------------------------------------------------------------\u001b[0m",
      "\u001b[1;31mNameError\u001b[0m                                 Traceback (most recent call last)",
      "\u001b[1;32m~\\AppData\\Local\\Temp/ipykernel_3040/3338079380.py\u001b[0m in \u001b[0;36m<module>\u001b[1;34m\u001b[0m\n\u001b[0;32m     42\u001b[0m \u001b[1;32mfrom\u001b[0m \u001b[0mcar\u001b[0m \u001b[1;32mimport\u001b[0m \u001b[0mCar\u001b[0m \u001b[1;33m,\u001b[0m\u001b[0mBuy_car\u001b[0m\u001b[1;33m\u001b[0m\u001b[1;33m\u001b[0m\u001b[0m\n\u001b[0;32m     43\u001b[0m \u001b[0mcar\u001b[0m \u001b[1;33m=\u001b[0m \u001b[0mCar\u001b[0m\u001b[1;33m(\u001b[0m\u001b[1;34m'Audi'\u001b[0m\u001b[1;33m,\u001b[0m\u001b[1;34m'A6'\u001b[0m\u001b[1;33m,\u001b[0m\u001b[1;36m2022\u001b[0m\u001b[1;33m)\u001b[0m\u001b[1;33m\u001b[0m\u001b[1;33m\u001b[0m\u001b[0m\n\u001b[1;32m---> 44\u001b[1;33m \u001b[0mcar\u001b[0m\u001b[1;33m.\u001b[0m\u001b[0mprint_car\u001b[0m\u001b[1;33m(\u001b[0m\u001b[1;33m)\u001b[0m\u001b[1;33m\u001b[0m\u001b[1;33m\u001b[0m\u001b[0m\n\u001b[0m\u001b[0;32m     45\u001b[0m \u001b[0mcar\u001b[0m\u001b[1;33m.\u001b[0m\u001b[0mrun\u001b[0m\u001b[1;33m(\u001b[0m\u001b[1;33m)\u001b[0m\u001b[1;33m\u001b[0m\u001b[1;33m\u001b[0m\u001b[0m\n\u001b[0;32m     46\u001b[0m \u001b[0mbuy_car\u001b[0m \u001b[1;33m=\u001b[0m \u001b[0mBuy_car\u001b[0m\u001b[1;33m(\u001b[0m\u001b[1;34m'Qiu'\u001b[0m\u001b[1;33m,\u001b[0m\u001b[1;34m'Audi'\u001b[0m\u001b[1;33m,\u001b[0m\u001b[1;34m'A6'\u001b[0m\u001b[1;33m,\u001b[0m\u001b[1;36m2022\u001b[0m\u001b[1;33m)\u001b[0m\u001b[1;33m\u001b[0m\u001b[1;33m\u001b[0m\u001b[0m\n",
      "\u001b[1;32m~\\1 Python learning\\car.py\u001b[0m in \u001b[0;36mprint_car\u001b[1;34m(self)\u001b[0m\n\u001b[0;32m      5\u001b[0m         \u001b[0mself\u001b[0m\u001b[1;33m.\u001b[0m\u001b[0myear\u001b[0m \u001b[1;33m=\u001b[0m \u001b[0myear\u001b[0m\u001b[1;33m\u001b[0m\u001b[1;33m\u001b[0m\u001b[0m\n\u001b[0;32m      6\u001b[0m     \u001b[1;32mdef\u001b[0m \u001b[0mprint_car\u001b[0m\u001b[1;33m(\u001b[0m\u001b[0mself\u001b[0m\u001b[1;33m)\u001b[0m\u001b[1;33m:\u001b[0m\u001b[1;33m\u001b[0m\u001b[1;33m\u001b[0m\u001b[0m\n\u001b[1;32m----> 7\u001b[1;33m         \u001b[0mprint\u001b[0m\u001b[1;33m(\u001b[0m\u001b[1;34mf'This car is {self.year} {self.brand} {self.model}'\u001b[0m\u001b[1;33m)\u001b[0m\u001b[1;33m\u001b[0m\u001b[1;33m\u001b[0m\u001b[0m\n\u001b[0m\u001b[0;32m      8\u001b[0m     \u001b[1;32mdef\u001b[0m \u001b[0mrun\u001b[0m\u001b[1;33m(\u001b[0m\u001b[0mself\u001b[0m\u001b[1;33m)\u001b[0m\u001b[1;33m:\u001b[0m\u001b[1;33m\u001b[0m\u001b[1;33m\u001b[0m\u001b[0m\n\u001b[0;32m      9\u001b[0m         \u001b[0mprint\u001b[0m\u001b[1;33m(\u001b[0m\u001b[1;34m'car is running'\u001b[0m\u001b[1;33m)\u001b[0m\u001b[1;33m\u001b[0m\u001b[1;33m\u001b[0m\u001b[0m\n",
      "\u001b[1;31mNameError\u001b[0m: name 'year' is not defined"
     ]
    }
   ],
   "source": [
    "#创建类，设置初始化属性，设置方法，明白self实例传递，明白创建能for循环遍历的类\n",
    "class Animal():\n",
    "    #初始化，每次运行类都会先运行，自动将实例名给self，而后将实例的参数name和age付给实例\n",
    "    def __init__(self , name , age):\n",
    "        self.name = name\n",
    "        self.age = age\n",
    "    #方法，类中实例可以执行的操作，为类自己的函数。执行实例self的特定操作，可赋值food\n",
    "    def eat(self , food):\n",
    "        print(f'{self.name} eating {food}')\n",
    "    def sleep(self):\n",
    "        print(f'{self.name} is sleeping')\n",
    "        \n",
    "#应用类\n",
    "dog = Animal('Dog',6)\n",
    "dog.eat('fish')\n",
    "dog.sleep()\n",
    "\n",
    "cat = Animal('Cat',4)\n",
    "cat.eat('bone')\n",
    "cat.sleep()\n",
    "\n",
    "#继承（ class Kid( Father )让子类拥有父类的所有方法，包括初始化，若父类有默认值，在初始化下写上super（）.__init__(self,name,age)\n",
    "#super表示父类）\n",
    "class Dog(Animal):\n",
    "    #重写子类的方法\n",
    "    def eat(self , food):\n",
    "        print(f'The doggie {self.name} eating {food}')\n",
    "    def sleep(self):\n",
    "        print(f'The doggie {self.name} is sleeping')\n",
    "        \n",
    "fat = Dog('fat',6)\n",
    "fat.eat('bone')\n",
    "fat.sleep()\n",
    "\n",
    "#多态\n",
    "fat = Dog('fat',6)\n",
    "fat.sleep()\n",
    "animal =Animal('animal',6)\n",
    "animal.sleep()\n",
    "\n",
    "#导入类（模块的导入）\n",
    "'''这个里面运行有bug，在vscode中顺利运行'''\n",
    "from car import Car ,Buy_car\n",
    "car = Car('Audi','A6',2022)\n",
    "car.print_car()\n",
    "car.run()\n",
    "buy_car = Buy_car('Qiu','Audi','A6',2022)\n",
    "buy_car.buy()"
   ]
  },
  {
   "cell_type": "code",
   "execution_count": 8,
   "id": "bf6f8bd8",
   "metadata": {},
   "outputs": [
    {
     "name": "stdout",
     "output_type": "stream",
     "text": [
      "1\n",
      "1\n",
      "2\n",
      "3\n",
      "5\n",
      "8\n"
     ]
    }
   ],
   "source": [
    "#创建可用for循环遍历的类（运用迭代器）\n",
    "class Fib():\n",
    "    def __init__(self):\n",
    "        self.a, self.b = 0, 1\n",
    "    def __iter__(self):\n",
    "        return self\n",
    "    def __next__(self):\n",
    "        self.a, self.b = self.b, self.a + self.b\n",
    "        return self.a\n",
    "\n",
    "fib = Fib()\n",
    "for i in fib:\n",
    "    if i > 10: \n",
    "         break\n",
    "    print(i)# 1, 1, 2, 3, 5, 8"
   ]
  },
  {
   "cell_type": "code",
   "execution_count": 17,
   "id": "85399ce2",
   "metadata": {},
   "outputs": [
    {
     "name": "stdout",
     "output_type": "stream",
     "text": [
      "tttttttttt\n",
      "eeeeeeeeee\n",
      "xxxxxxxxxx\n",
      "tttttttttt\n",
      "\n",
      "tttttttttt\n",
      "\n",
      "['tttttttttt\\n', 'eeeeeeeeee\\n', 'xxxxxxxxxx\\n', 'tttttttttt']\n",
      "tttttttttt\n",
      "\n",
      "eeeeeeeeee\n",
      "\n",
      "xxxxxxxxxx\n",
      "\n",
      "tttttttttt\n",
      "tttttttttteeeeeeeeeexxxxxxxxxxtttttttttt\n",
      "\n",
      "\n",
      "\"e\" is in the file\n",
      "tttttttttt\n",
      "eeeeeeeeee\n",
      "xxxxxxxxxx\n",
      "tttttttttt\n",
      "70\n"
     ]
    }
   ],
   "source": [
    "###打开文件处理文件“读”（ open(filename, mode) ）###\n",
    "test = open('text_file/test.txt') ### 用 with open('test.txt') as test 将不需要手动确定 test.close() 来关闭文件\n",
    "t_1 = test.read()  #全部读取\n",
    "t_2 = test.readline()  #读取一行，遇到 /n 即停止 [f.readline() 如果返回一个空字符串, 说明已经已经读取到最后一行]\n",
    "print(t_1)\n",
    "print(t_2)\n",
    "test.close() \n",
    "\n",
    "\"\"\"读取一行\"\"\"\n",
    "with open('text_file/test.txt') as test:\n",
    "    t_2 = test.readline()  \n",
    "    print(t_2)\n",
    "\n",
    "\"\"\"逐行读取\"\"\"\n",
    "text = '' #定义空字符串储存文件内容\n",
    "with open('text_file/test.txt') as test:\n",
    "    t_3 = test.readlines()  #每一行都储存在一个列表里，可以将其遍历到一个空字符串里使用\n",
    "    print(t_3)\n",
    "for t in t_3:\n",
    "    print(t)    #因此可以在with 外面遍历\n",
    "    text += t.rstrip() #可以将文件储存近空字符串里    \n",
    "print(text)\n",
    "print('\\n')\n",
    "\n",
    "if 'e' in text:  \n",
    "    print('\"e\" is in the file')  #可用if语句判断文件里有什么\n",
    "\n",
    "\"也可以\"\n",
    "with open('text_file/test.txt') as test:\n",
    "    for t in test:\n",
    "        print(t.rstrip()) #去除右空格\n",
    "        \n",
    "        \n",
    "\n",
    "###打开文件处理文件“写”（ open(filename, mode) ）【若无文件则会创建一个，若有则会将文件清空！！！】###\n",
    "with open('text_file/write.txt' ,'w' ,encoding = 'utf-8') as write:\n",
    "    num = write.write('写入只可以写入字符，若不为字符，则需要用str（）转义。num为返回的写入字符个数，encoding用来指定编码格式是utf-8否则不能储存')\n",
    "print(num)\n",
    "\n",
    "\n",
    "###打开文件处理文件“追加”（ open(filename, mode) ）【在原先文件后面追加内容】###\n",
    "with open('text_file/write.txt' ,'a' ,encoding = 'utf-8') as add:\n",
    "    add.write('\\n追加可以在原有文件内容底下追加内容')"
   ]
  },
  {
   "cell_type": "markdown",
   "id": "7eeec2ac",
   "metadata": {},
   "source": [
    "<!-- ![打开文件的模式](./打开文件的模式.png) 【这个不可调节图片大小】--> \n",
    "<img src=\"打开文件的模式.png\" >"
   ]
  },
  {
   "cell_type": "code",
   "execution_count": null,
   "id": "d111915b",
   "metadata": {},
   "outputs": [],
   "source": [
    "###异常处理（try except else finally【raise 异常名称（解释）】）###"
   ]
  },
  {
   "cell_type": "markdown",
   "id": "454de92d",
   "metadata": {},
   "source": [
    "![nomalError](https://pic1.zhimg.com/v2-7dd56e0eb3bebde6045dd791e52c9d1a_1440w.jpg?source=172ae18b)"
   ]
  },
  {
   "cell_type": "code",
   "execution_count": 4,
   "id": "9e65c007",
   "metadata": {},
   "outputs": [
    {
     "name": "stdout",
     "output_type": "stream",
     "text": [
      "Input the first number: a\n",
      "Input the another number: b\n",
      "invalid literal for int() with base 10: 'a' Please input number in it\n",
      "Would you wanna quit?(Y/N)Y\n"
     ]
    }
   ],
   "source": [
    "\"\"\"做除法运算，无异常时打印结果，有异常时告知异常原因，最后告知一轮结束\"\"\"\n",
    "q = \"N\"\n",
    "while True:\n",
    "    if q == \"Y\":\n",
    "        break\n",
    "    try:\n",
    "        a = input(\"Input the first number: \")\n",
    "        b = input(\"Input the another number: \")\n",
    "        answer = int(a)/int(b)\n",
    "    except ZeroDivisionError as zde:\n",
    "        print(\"Can't divide by 0!\\n\")\n",
    "    except ValueError as ve:\n",
    "        print(\"Please input number in it\")\n",
    "    else:\n",
    "        print(answer)\n",
    "    finally:\n",
    "        q = input(\"Would you wanna quit?(Y/N)\")"
   ]
  },
  {
   "cell_type": "code",
   "execution_count": 15,
   "id": "e3db0540",
   "metadata": {},
   "outputs": [
    {
     "name": "stdout",
     "output_type": "stream",
     "text": [
      "{'name': 'Qiu', 'height': '175cm', 'weight': '62kg'}\n"
     ]
    }
   ],
   "source": [
    "###存储数据（用json）【json.dump(数据，目标文件)将数据存到json文件里，json.load(文件)获取文件内容】###\n",
    "import json\n",
    "\n",
    "with open(\"储存数据.json\",\"w\") as creat:   #创建一个空的json文件\n",
    "    dic = {'name':'Qiu', 'height':'175cm', 'weight':'62kg'}\n",
    "    json.dump(dic, creat)\n",
    "\n",
    "with open(\"储存数据.json\") as look:\n",
    "    load = json.load(look)\n",
    "    print(load)\n",
    "\n",
    "\n"
   ]
  },
  {
   "cell_type": "code",
   "execution_count": null,
   "id": "37a56886",
   "metadata": {},
   "outputs": [],
   "source": [
    "###测试代码（运用unistest类，用断言方法）###"
   ]
  },
  {
   "cell_type": "markdown",
   "id": "6b8c39f5",
   "metadata": {},
   "source": [
    "<img src=断言方法.png>"
   ]
  },
  {
   "cell_type": "code",
   "execution_count": 4,
   "id": "570e3ab4",
   "metadata": {},
   "outputs": [
    {
     "name": "stdout",
     "output_type": "stream",
     "text": [
      "empty\n",
      "empty\n",
      "empty\n"
     ]
    }
   ],
   "source": [
    "for i in [1,2,3]:\n",
    "    print('empty')"
   ]
  },
  {
   "cell_type": "code",
   "execution_count": null,
   "id": "0c941ad9",
   "metadata": {},
   "outputs": [],
   "source": []
  },
  {
   "cell_type": "code",
   "execution_count": null,
   "id": "483efcb7",
   "metadata": {},
   "outputs": [],
   "source": []
  },
  {
   "cell_type": "code",
   "execution_count": null,
   "id": "3d1fa92a",
   "metadata": {},
   "outputs": [],
   "source": []
  }
 ],
 "metadata": {
  "kernelspec": {
   "display_name": "Python 3 (ipykernel)",
   "language": "python",
   "name": "python3"
  },
  "language_info": {
   "codemirror_mode": {
    "name": "ipython",
    "version": 3
   },
   "file_extension": ".py",
   "mimetype": "text/x-python",
   "name": "python",
   "nbconvert_exporter": "python",
   "pygments_lexer": "ipython3",
   "version": "3.9.7"
  }
 },
 "nbformat": 4,
 "nbformat_minor": 5
}
