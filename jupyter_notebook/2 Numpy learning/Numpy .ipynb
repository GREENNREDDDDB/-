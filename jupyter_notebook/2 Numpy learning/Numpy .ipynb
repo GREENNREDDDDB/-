{
 "cells": [
  {
   "cell_type": "markdown",
   "id": "92fca5f7",
   "metadata": {},
   "source": [
    "# 基础\n",
    "## 1、轴的概念： ![2d](picture/2d.png)\n",
    "         注意：一维数组只有轴0：![1d](picture/1d.png)\n",
    "         \n",
    "## >2、array的属性：（ndarray = n dimension array）\n",
    "#### ndarray.ndim：数列的维度，即轴数\n",
    "\n",
    "#### ndarray.shape：以元组的形式显示数列的形状，如（1，2，3）即为一行二列三层的数组\n",
    "\n",
    "#### ndarray.size：数组中的元素总数\n",
    "\n",
    "#### ndarray.dtype：数组中元素的数据类型，除了python中的numpy中也有自己独特的数据类型如：int32，int16，float64。。。\n",
    "\n",
    "#### ndarray.itemsize：数组中元素的字节数，如float64字节数为8（64/8）\n",
    "\n",
    "## >示例："
   ]
  },
  {
   "cell_type": "code",
   "execution_count": 6,
   "id": "ad930787",
   "metadata": {},
   "outputs": [
    {
     "name": "stdout",
     "output_type": "stream",
     "text": [
      "[[0 1 2]\n",
      " [3 4 5]\n",
      " [6 7 8]]\n",
      "\n",
      "轴数：  2\n",
      "形状:  (3, 3)\n",
      "元素总数：  9\n",
      "数据类型：  int32\n",
      "一个数据的字节数：  4\n"
     ]
    }
   ],
   "source": [
    "import numpy as np\n",
    "\n",
    "a = np.arange(9).reshape(3,3) #将0~9的整数，重整为一个三行三列的数列\n",
    "print(a)\n",
    "\n",
    "print(\"\\n轴数： \" ,a.ndim)\n",
    "print(\"形状: \" ,a.shape)\n",
    "print(\"元素总数： \", a.size)\n",
    "print(\"数据类型： \" ,a.dtype)\n",
    "print(\"一个数据的字节数： \" ,a.itemsize)"
   ]
  },
  {
   "cell_type": "markdown",
   "id": "2146eaf6",
   "metadata": {},
   "source": [
    "## 3、基础操作"
   ]
  },
  {
   "cell_type": "markdown",
   "id": "0ce38064",
   "metadata": {},
   "source": [
    "### 1、创建数组\n",
    "#### 1、直接创建（要用列表或元组来创建）"
   ]
  },
  {
   "cell_type": "code",
   "execution_count": 17,
   "id": "f5d842ab",
   "metadata": {},
   "outputs": [
    {
     "name": "stdout",
     "output_type": "stream",
     "text": [
      "[1 2 3 4]\n",
      "[4 5 6 7]\n",
      "[[1.+0.j 2.+0.j 3.+0.j]\n",
      " [4.+0.j 5.+0.j 6.+0.j]]\n"
     ]
    },
    {
     "data": {
      "text/plain": [
       "''"
      ]
     },
     "execution_count": 17,
     "metadata": {},
     "output_type": "execute_result"
    }
   ],
   "source": [
    "import numpy as np\n",
    "\n",
    "a = np.array([1,2,3,4]) #用列表创建\n",
    "b = np.array((4,5,6,7)) #用元组创建\n",
    "c = np.array([[1,2,3],[4,5,6]] ,dtype=complex) #用列表框住多个列表或元组创建多维数组，用dtype可定义数据类型\n",
    "print(a)\n",
    "print(b)\n",
    "print(c)\n",
    "\n",
    "\"\"\"这样将报错\"\"\"\n",
    "#c = np.array(1,2,3,4)\n",
    "\"\"\"\"\"\"\"\"\"\"\"\"\"\"\"\"\"\"\"\"\"\"\"\""
   ]
  },
  {
   "cell_type": "markdown",
   "id": "683ab006",
   "metadata": {},
   "source": [
    "#### 2、创建给定数组\n",
    "##### 1、全零组  ：zeros(形状元组)"
   ]
  },
  {
   "cell_type": "code",
   "execution_count": 14,
   "id": "b93dcab6",
   "metadata": {},
   "outputs": [
    {
     "name": "stdout",
     "output_type": "stream",
     "text": [
      "[[0. 0. 0. 0.]\n",
      " [0. 0. 0. 0.]\n",
      " [0. 0. 0. 0.]]\n"
     ]
    }
   ],
   "source": [
    "import numpy as np\n",
    "\n",
    "z = np.zeros((3,4)) \n",
    "print(z)"
   ]
  },
  {
   "cell_type": "markdown",
   "id": "11954e15",
   "metadata": {},
   "source": [
    "##### 2、全一组 ：ones（形状元组）"
   ]
  },
  {
   "cell_type": "code",
   "execution_count": 15,
   "id": "ef15232d",
   "metadata": {},
   "outputs": [
    {
     "name": "stdout",
     "output_type": "stream",
     "text": [
      "[[1. 1. 1. 1.]\n",
      " [1. 1. 1. 1.]\n",
      " [1. 1. 1. 1.]]\n"
     ]
    }
   ],
   "source": [
    "import numpy as np\n",
    "\n",
    "o = np.ones((3,4)) \n",
    "print(o)"
   ]
  },
  {
   "cell_type": "markdown",
   "id": "9ca66c0a",
   "metadata": {},
   "source": [
    "##### 3、乱数组 ： empty（形状元组）"
   ]
  },
  {
   "cell_type": "code",
   "execution_count": 18,
   "id": "6beca623",
   "metadata": {},
   "outputs": [
    {
     "name": "stdout",
     "output_type": "stream",
     "text": [
      "[[1. 0. 2. 0.]\n",
      " [3. 0. 4. 0.]\n",
      " [5. 0. 6. 0.]]\n"
     ]
    }
   ],
   "source": [
    "import numpy as np\n",
    "\n",
    "e = np.empty((3,4)) \n",
    "print(e)"
   ]
  },
  {
   "cell_type": "markdown",
   "id": "21714c82",
   "metadata": {},
   "source": [
    "##### 5、用arange（始，末，步长）来创建数组  ：注当步长为小数时，元素个数可能不确定（不可数），所以用linspace（始，末，元素个数）来创建"
   ]
  },
  {
   "cell_type": "code",
   "execution_count": 22,
   "id": "ba48716c",
   "metadata": {},
   "outputs": [
    {
     "name": "stdout",
     "output_type": "stream",
     "text": [
      "[1 3 5 7]\n",
      "[1.  1.5 2.  2.5 3.  3.5 4.  4.5 5.  5.5 6.  6.5 7.  7.5]\n",
      "[1.  2.4 3.8 5.2 6.6 8. ]\n"
     ]
    }
   ],
   "source": [
    "import numpy as np\n",
    "\n",
    "a = np.arange(1,8,2) #创建从1到8，步长间隔为2的数组\n",
    "b = np.arange(1,8,0.5) #创建从1到8，步长间隔为0.5的数组\n",
    "c = np.linspace(1,8,6) #创建从1到8，有6个元素的数组\n",
    "print(a)\n",
    "print(b)\n",
    "print(c)"
   ]
  },
  {
   "cell_type": "markdown",
   "id": "7f8e5134",
   "metadata": {},
   "source": [
    "##### 6、用随机数生成\n",
    "**随机数**\n",
    "<img src=https://img-blog.csdnimg.cn/img_convert/38a43c77d06c40bb4d629c5102389b8d.png>"
   ]
  },
  {
   "cell_type": "code",
   "execution_count": null,
   "id": "029f28ae",
   "metadata": {},
   "outputs": [],
   "source": [
    "import numpy as np\n",
    "\n",
    "a = np.random.random((3,4))  #生成两行三列的随机数\n",
    "print(a)\n",
    "\n",
    "b = np.floor(10*a)  # floor即地板数，即向下取整，即高数中的[x]\n",
    "print(b)"
   ]
  },
  {
   "cell_type": "markdown",
   "id": "86d571c1",
   "metadata": {},
   "source": [
    "### 2、打印数组\n",
    "#### 一维：np.array(x) ；二维：np.array(x,y) ; 三维：np.array(h,x,y)"
   ]
  },
  {
   "cell_type": "code",
   "execution_count": 32,
   "id": "a76dcadb",
   "metadata": {},
   "outputs": [
    {
     "name": "stdout",
     "output_type": "stream",
     "text": [
      "[ 0  1  2  3  4  5  6  7  8  9 10 11 12 13 14 15 16 17] \n",
      "\n",
      "[[ 0  1  2  3  4  5]\n",
      " [ 6  7  8  9 10 11]\n",
      " [12 13 14 15 16 17]] \n",
      "\n",
      "[[[ 0  1  2]\n",
      "  [ 3  4  5]]\n",
      "\n",
      " [[ 6  7  8]\n",
      "  [ 9 10 11]]\n",
      "\n",
      " [[12 13 14]\n",
      "  [15 16 17]]] \n",
      "\n"
     ]
    }
   ],
   "source": [
    "import numpy as np\n",
    "\n",
    "d1 = np.arange(18) #单行数组\n",
    "d2 = np.arange(18).reshape((3,6)) #三行六列数组\n",
    "d3 = np.arange(18).reshape((3,2,3)) #三层两行三列数组\n",
    "print(d1,\"\\n\")\n",
    "print(d2,\"\\n\")\n",
    "print(d3,\"\\n\")"
   ]
  },
  {
   "cell_type": "markdown",
   "id": "8c2e07fa",
   "metadata": {},
   "source": [
    "### 3、数组，矩阵运算\n",
    "#### 1、乘法运算"
   ]
  },
  {
   "cell_type": "code",
   "execution_count": 37,
   "id": "4fcef6d6",
   "metadata": {},
   "outputs": [
    {
     "name": "stdout",
     "output_type": "stream",
     "text": [
      "[[0 1 2]\n",
      " [3 4 5]\n",
      " [6 7 8]] \n",
      "\n",
      "[[1 4 3]\n",
      " [2 4 6]\n",
      " [1 3 2]] \n",
      "\n",
      "[[ 4 10 10]\n",
      " [16 43 43]\n",
      " [28 76 76]] \n",
      "\n",
      "[[ 0  4  6]\n",
      " [ 6 16 30]\n",
      " [ 6 21 16]] \n",
      "\n",
      "[[ 0  2  4]\n",
      " [ 6  8 10]\n",
      " [12 14 16]]\n"
     ]
    }
   ],
   "source": [
    "import numpy as np\n",
    "\n",
    "a = np.arange(9).reshape((3,3))\n",
    "b = np.array([[1,4,3],[2,4,6],[1,3,2]])\n",
    "print(a,'\\n')\n",
    "print(b,'\\n')\n",
    "\n",
    "c = a.dot(b) #矩阵乘法在numpy中表现为dot product ，a·b为外积即矩阵乘法。\n",
    "print(c,'\\n')\n",
    "\n",
    "d = a*b      #矩阵逐项对成在numpy中表现为 * ，即第一项乘第一项，第二项乘第二项。。。。\n",
    "print(d,'\\n')\n",
    "\n",
    "a += a #自己累加处理，乘法也可以这样\n",
    "print(a)"
   ]
  },
  {
   "cell_type": "markdown",
   "id": "0f93d9dd",
   "metadata": {},
   "source": [
    "#### 2、元素求和，最值，中值，平均值  (可指定轴)"
   ]
  },
  {
   "cell_type": "code",
   "execution_count": 42,
   "id": "2f8966c1",
   "metadata": {},
   "outputs": [
    {
     "name": "stdout",
     "output_type": "stream",
     "text": [
      "[[1 4 3]\n",
      " [2 4 6]\n",
      " [1 3 2]] \n",
      "\n",
      "26 \n",
      "\n",
      "[ 4 11 11] \n",
      "\n",
      "1 \n",
      "\n",
      "[4 6 3] \n",
      "\n",
      "[3. 4. 2.] \n",
      "\n",
      "[1.33333333 3.66666667 3.66666667] \n",
      "\n"
     ]
    }
   ],
   "source": [
    "import numpy as np\n",
    "\n",
    "b = np.array([[1,4,3],[2,4,6],[1,3,2]])\n",
    "print(b,'\\n')\n",
    "\n",
    "print(b.sum() ,'\\n')    #矩阵各元素之和\n",
    "print(b.sum(axis=0),'\\n')  #矩阵沿着 0轴 ，即列轴，相加\n",
    "print(b.min(),'\\n')     #矩阵各元素的最小值\n",
    "print(b.max(axis=1),'\\n')  #矩阵沿着 1轴，即行轴，的最大值\n",
    "print(np.median(b,axis=1),'\\n') #矩阵沿着 1轴 的中值\n",
    "print(np.mean(b,axis=0),'\\n') #矩阵沿着 0 轴的平均值"
   ]
  },
  {
   "cell_type": "markdown",
   "id": "36a4b380",
   "metadata": {},
   "source": [
    "#### 3、三角运算 (三角函数输入为弧度，反三角函数输出为弧度)"
   ]
  },
  {
   "cell_type": "code",
   "execution_count": 52,
   "id": "04cd3a09",
   "metadata": {},
   "outputs": [
    {
     "name": "stdout",
     "output_type": "stream",
     "text": [
      "[ 0 30 60 90] \n",
      "\n",
      "[0.        0.5       0.8660254 1.       ]\n",
      "[ 0. 30. 60. 90.]\n"
     ]
    }
   ],
   "source": [
    "import numpy as np\n",
    "\n",
    "b = np.array([0,30,60,90])\n",
    "sin = np.sin(b*np.pi/180)  #三角函数输入必须为弧度，即角度乘以 Π/180\n",
    "\n",
    "print(b,'\\n')\n",
    "print(sin)\n",
    "\n",
    "inv = np.arcsin(sin)      #反三角函数输出也为弧度值\n",
    "degree = np.degrees(inv)  #所以通过 np.degrees() 函数将弧度转化为角度\n",
    "print(degree)\n"
   ]
  },
  {
   "cell_type": "markdown",
   "id": "06facca2",
   "metadata": {},
   "source": [
    "#### 4、常用运算"
   ]
  },
  {
   "cell_type": "code",
   "execution_count": 64,
   "id": "9395faa5",
   "metadata": {},
   "outputs": [
    {
     "name": "stdout",
     "output_type": "stream",
     "text": [
      "[[1 4 3]\n",
      " [2 4 6]\n",
      " [1 3 2]] \n",
      "\n",
      "[0 1 2] \n",
      "\n",
      "[1.         2.71828183 7.3890561 ]\n",
      "[0.         1.         1.41421356]\n",
      "\n",
      "\n",
      "[[1 5 5]\n",
      " [2 5 8]\n",
      " [1 4 4]]\n",
      "\n",
      "\n",
      "[[-1 -3 -1]\n",
      " [-2 -3 -4]\n",
      " [-1 -2  0]]\n",
      "\n",
      "\n",
      "[[ 0  4  6]\n",
      " [ 0  4 12]\n",
      " [ 0  3  4]]\n",
      "\n",
      "\n",
      "[[0.         0.25       0.66666667]\n",
      " [0.         0.25       0.33333333]\n",
      " [0.         0.33333333 1.        ]]\n",
      "\n",
      "\n"
     ]
    }
   ],
   "source": [
    "import numpy as np\n",
    "\n",
    "a = np.array([0,1,2])\n",
    "b = np.array([[1,4,3],[2,4,6],[1,3,2]])\n",
    "print(b,'\\n')\n",
    "print(a,'\\n')\n",
    "\n",
    "ex = np.exp(a)  #输出为 e^x 的值，做的时 e 的幂指运算\n",
    "print(ex)\n",
    "\n",
    "sq = np.sqrt(a) #输出为数列的开平方\n",
    "print(sq)\n",
    "print('\\n')\n",
    "\n",
    "add = np.add(a,b) #a+b\n",
    "print(add)\n",
    "print('\\n')\n",
    "\n",
    "sub = np.subtract(a,b) #a-b\n",
    "print(sub)\n",
    "print('\\n')\n",
    "\n",
    "mul = np.multiply(a,b) #a*b\n",
    "print(mul)\n",
    "print('\\n')\n",
    "\n",
    "div = np.divide(a,b) #a/b\n",
    "print(div)\n",
    "print('\\n')"
   ]
  },
  {
   "cell_type": "markdown",
   "id": "203bf400",
   "metadata": {},
   "source": [
    "### 4、索引，切片，遍历\n",
    " **补充内容：利用函数创造数组：**\n",
    "  >1. 定义一个关于（x，y）的函数def f (x,y);\n",
    "  >2. 使用np.fromfunction（function_name ,(shape) ,dtype）;  \n",
    "  >3. 函数中的x，y将自动按照从左到右的规律变化，如三行三列数列将这样（0，0），（0，1），（0，2），（1，0）.。。。“》》"
   ]
  },
  {
   "cell_type": "code",
   "execution_count": 87,
   "id": "0a0c853e",
   "metadata": {},
   "outputs": [
    {
     "name": "stdout",
     "output_type": "stream",
     "text": [
      "[[ 0  1  2  3]\n",
      " [10 11 12 13]\n",
      " [20 21 22 23]\n",
      " [30 31 32 33]\n",
      " [40 41 42 43]]\n",
      "\n",
      "\n",
      "32\n",
      "\n",
      "\n",
      "[ 0 10 20 30 40]\n",
      "\n",
      "\n",
      "[[[ 0  1  2]\n",
      "  [ 3  4  5]]\n",
      "\n",
      " [[ 6  7  8]\n",
      "  [ 9 10 11]]\n",
      "\n",
      " [[12 13 14]\n",
      "  [15 16 17]]]\n",
      "\n",
      "\n",
      "[[ 1  4]\n",
      " [ 7 10]\n",
      " [13 16]]\n",
      "\n",
      "\n",
      "[[ 1  4]\n",
      " [ 7 10]\n",
      " [13 16]]\n",
      "\n",
      "\n",
      "[[ 0  1  2]\n",
      " [ 6  7  8]\n",
      " [12 13 14]]\n",
      "\n",
      "\n",
      "0\n",
      "1\n",
      "2\n",
      "3\n",
      "10\n",
      "11\n",
      "12\n",
      "13\n",
      "20\n",
      "21\n",
      "22\n",
      "23\n",
      "30\n",
      "31\n",
      "32\n",
      "33\n",
      "40\n",
      "41\n",
      "42\n",
      "43\n"
     ]
    },
    {
     "data": {
      "text/plain": [
       "'\\nfor i in a.flat:\\n    print(i)\\n效果同上一样，因为 .flat 将矩阵切成一个一个一维数组\\n'"
      ]
     },
     "execution_count": 87,
     "metadata": {},
     "output_type": "execute_result"
    }
   ],
   "source": [
    "import numpy as np\n",
    "\n",
    "def f (x,y):\n",
    "    return 10*x+y  #返回（0，0）、（0，1）、。。。\n",
    "\n",
    "#用函数创建一个二维数组：只能创建二维以下\n",
    "a = np.fromfunction(f,(5,4),dtype=int)  \n",
    "print(a)\n",
    "print('\\n')\n",
    "\n",
    "#索引\n",
    "print(a[(3,2)]) #从0开始，第三行第二列的32\n",
    "print('\\n')\n",
    "\n",
    "#切片\n",
    "print(a[0:5 ,0]) #打印第一列的 第一行到第四行的元素\n",
    "print('\\n')\n",
    "\n",
    "#高维矩阵切片法及其省略表示法：\n",
    "b = np.arange(18).reshape(3,2,3) #创造一个3层2行3列的数组\n",
    "print(b)\n",
    "print('\\n')\n",
    "print(b[:,:,1])   #打印每层，每行的第1列（从0开始）\n",
    "print('\\n')\n",
    "print(b[...,1])   #省略法\n",
    "print('\\n')\n",
    "print(b[...,0,:]) #打印每层，每列，第0行\n",
    "print('\\n')\n",
    "\n",
    "\n",
    "#遍历\n",
    "for i in a:\n",
    "    for j in i:\n",
    "        print(j)  #遍历，打印出数列的所有元素\n",
    "\"\"\"\n",
    "for i in a.flat:\n",
    "    print(i)\n",
    "效果同上一样，因为 .flat 将矩阵切成一个一个一维数组\n",
    "\"\"\"\n",
    "        "
   ]
  },
  {
   "cell_type": "markdown",
   "id": "246cc493",
   "metadata": {},
   "source": [
    "## 4、数组形状操作\n",
    "### 1、改变数组形状"
   ]
  },
  {
   "cell_type": "code",
   "execution_count": 114,
   "id": "87974671",
   "metadata": {},
   "outputs": [
    {
     "name": "stdout",
     "output_type": "stream",
     "text": [
      "[[0 1 2]\n",
      " [3 4 5]\n",
      " [6 7 8]]\n",
      "\n",
      "\n",
      "[[0 1 2 3 4 5 6 7 8]]\n",
      "[[0 1 2]\n",
      " [3 4 5]\n",
      " [6 7 8]]\n",
      "\n",
      "\n",
      "[[0 1 2 3 4 5 6 7 8]]\n",
      "[ 0  1  2  3  4  5  6  7  8  9 10 11 12 13 14 15 16 17]\n",
      "None\n",
      "[[[ 0  1  2]\n",
      "  [ 3  4  5]\n",
      "  [ 6  7  8]]\n",
      "\n",
      " [[ 9 10 11]\n",
      "  [12 13 14]\n",
      "  [15 16 17]]]\n",
      "[[0 3 6]\n",
      " [1 4 7]\n",
      " [2 5 8]]\n"
     ]
    }
   ],
   "source": [
    "import numpy as np\n",
    "\n",
    "a = np.arange(9).reshape((3,3))  #创建一个3行3列的数组\n",
    "print(a)\n",
    "print('\\n')\n",
    "\n",
    "# reshape(元组)改变形状而不会改变原数组\n",
    "b = a.reshape((1,9))\n",
    "print(b)\n",
    "print(a)\n",
    "print('\\n')\n",
    "\n",
    "y = a.reshape((1,-1))  #用 -1 将可以自动计算需要多少列\n",
    "print(y)\n",
    "\n",
    "# resize(元组)会改变原数组的形状\n",
    "c = np.arange(18)\n",
    "print(c)\n",
    "d = c.resize((2,3,3))\n",
    "print(d)  #无返回值\n",
    "print(c)\n",
    "\n",
    "#转置\n",
    "t = a.T\n",
    "print(t)"
   ]
  },
  {
   "cell_type": "markdown",
   "id": "a7543e32",
   "metadata": {},
   "source": [
    "### 2、连接数组 \n",
    ">1. （concatenate((数组们) ,axis=   )\n",
    ">2. stack((数组们) ,数字表示轴：0，1...)\n",
    ">3. vstack(行连接的数组们)\n",
    ">4. hstack(列连接的数组们)\n",
    ">5. r_（快速创建行数组） \n",
    ">6. c_（快速创建列数组））"
   ]
  },
  {
   "cell_type": "code",
   "execution_count": 133,
   "id": "2e0f74a4",
   "metadata": {},
   "outputs": [
    {
     "name": "stdout",
     "output_type": "stream",
     "text": [
      "[[0 1]\n",
      " [2 3]]\n",
      "\n",
      "\n",
      "[[4 5]\n",
      " [6 7]]\n",
      "\n",
      "\n",
      "[[0 1 4 5]\n",
      " [2 3 6 7]]\n",
      "\n",
      "\n",
      "[[[0 4]\n",
      "  [1 5]]\n",
      "\n",
      " [[2 6]\n",
      "  [3 7]]]\n",
      "\n",
      "\n",
      "[[0 1]\n",
      " [2 3]\n",
      " [4 5]\n",
      " [6 7]]\n",
      "\n",
      "\n",
      "[[0 1 4 5]\n",
      " [2 3 6 7]]\n",
      "\n",
      "\n",
      "[1 2 3 4 2 6]\n",
      "\n",
      "\n",
      "[[1 2 3]\n",
      " [2 3 4]\n",
      " [3 4 5]\n",
      " [4 5 6]]\n",
      "\n",
      "\n"
     ]
    }
   ],
   "source": [
    "import numpy as np\n",
    "\n",
    "a = np.arange(4).reshape((2,2))\n",
    "b = np.arange(4,8).reshape((2,2))\n",
    "print(a)\n",
    "print('\\n')\n",
    "print(b)\n",
    "print('\\n')\n",
    "\n",
    "\"\"\"几种连接方式\"\"\"\n",
    "c = np.concatenate((a,b),axis=1) #默认按 axis=0 连接\n",
    "print(c)\n",
    "print('\\n')\n",
    "\n",
    "d = np.stack((a,b),2) #沿新的轴堆叠两个数组\n",
    "print(d)\n",
    "print('\\n')\n",
    "\n",
    "v = np.vstack((a,b)) #等同与按 axis=1 连接\n",
    "print(v)\n",
    "print('\\n')\n",
    "\n",
    "h = np.hstack((a,b)) #等同于按 axis=0 连接\n",
    "print(h)\n",
    "print('\\n')\n",
    "\n",
    "r = np.r_[1:5,2,6] #快速创造行数组\n",
    "print(r)\n",
    "print('\\n')\n",
    "\n",
    "c = np.c_[1:5 ,2:6 ,3:7]  #快速创造列数组 【逗号内的值都得是同维度，即元素个数一致】\n",
    "print(c)\n",
    "print('\\n')"
   ]
  },
  {
   "cell_type": "markdown",
   "id": "8a545f17",
   "metadata": {},
   "source": [
    "### 3、分割数组\n",
    ">1. np.split(数组，数或列表区间，轴axis=) :若中间为数 n 则将数组分为 n份 ，若中间为区间则以区间划分。\n",
    ">2. np.hsplit(数组，数或列表区间)  :沿h分开\n",
    ">3. np.vsplit(数组，数或列表区间)  :沿v分开"
   ]
  },
  {
   "cell_type": "code",
   "execution_count": 141,
   "id": "31024ea6",
   "metadata": {},
   "outputs": [
    {
     "name": "stdout",
     "output_type": "stream",
     "text": [
      "原数组：\n",
      "[[ 0  1  2  3]\n",
      " [ 4  5  6  7]\n",
      " [ 8  9 10 11]\n",
      " [12 13 14 15]]\n",
      "\n",
      "\n",
      "[array([[0, 1, 2, 3],\n",
      "       [4, 5, 6, 7]]), array([[ 8,  9, 10, 11],\n",
      "       [12, 13, 14, 15]])]\n",
      "\n",
      "\n",
      "[array([[ 0],\n",
      "       [ 4],\n",
      "       [ 8],\n",
      "       [12]]), array([[ 1,  2],\n",
      "       [ 5,  6],\n",
      "       [ 9, 10],\n",
      "       [13, 14]]), array([[ 3],\n",
      "       [ 7],\n",
      "       [11],\n",
      "       [15]])]\n",
      "\n",
      "\n",
      "[array([[ 0,  1],\n",
      "       [ 4,  5],\n",
      "       [ 8,  9],\n",
      "       [12, 13]]), array([[ 2,  3],\n",
      "       [ 6,  7],\n",
      "       [10, 11],\n",
      "       [14, 15]])]\n",
      "\n",
      "\n",
      "[array([[ 0],\n",
      "       [ 4],\n",
      "       [ 8],\n",
      "       [12]]), array([[ 1,  2],\n",
      "       [ 5,  6],\n",
      "       [ 9, 10],\n",
      "       [13, 14]]), array([[ 3],\n",
      "       [ 7],\n",
      "       [11],\n",
      "       [15]])]\n",
      "\n",
      "\n",
      "[array([[0, 1, 2, 3],\n",
      "       [4, 5, 6, 7]]), array([[ 8,  9, 10, 11],\n",
      "       [12, 13, 14, 15]])]\n",
      "\n",
      "\n",
      "[array([[0, 1, 2, 3]]), array([[ 4,  5,  6,  7],\n",
      "       [ 8,  9, 10, 11]]), array([[12, 13, 14, 15]])]\n",
      "\n",
      "\n"
     ]
    }
   ],
   "source": [
    "import numpy as np\n",
    "\n",
    "# 创建一个4*4的数组\n",
    "a = np.arange(16).reshape((4,4))\n",
    "print(\"原数组：\")\n",
    "print(a)\n",
    "print('\\n')\n",
    "\n",
    "#用split分割\n",
    "b = np.split(a,2) #默认axis=0 ，沿轴0将数组分为2分\n",
    "print(b)\n",
    "print('\\n')\n",
    "\n",
    "c = np.split(a,[1,3],axis=1) #沿轴1将数组,将数组分为0列，1列到2列，3列\n",
    "print(c)\n",
    "print('\\n')\n",
    "\n",
    "#用hsplit分割\n",
    "d = np.hsplit(a,2) #以h将数组分为2分\n",
    "print(d)\n",
    "print('\\n')\n",
    "\n",
    "e = np.hsplit(a,[1,3]) #以h将数组分为0列，1列到2列，3列\n",
    "print(e)\n",
    "print('\\n')\n",
    "\n",
    "#用vsplit分割\n",
    "f = np.vsplit(a,2) #以v将数组分为2分\n",
    "print(f)\n",
    "print('\\n')\n",
    "\n",
    "g = np.vsplit(a,[1,3]) #以v将数组分为0行，1行到2行，3行\n",
    "print(g)\n",
    "print('\\n')"
   ]
  },
  {
   "cell_type": "markdown",
   "id": "89466b87",
   "metadata": {},
   "source": [
    "## 5、视图view 拷贝copy\n",
    ">**1. 视图是对原数据的引用，不产生副本。**\n",
    ">>1. 当赋值（a=b）时，a，b为同一个id，修改b则会相应修改a；\n",
    ">>2. 当切片（b=a[:3]）时，修改切片也会影响到a；\n",
    ">>3. 当视图时（b=a.view()）,a,b的id不同，修改b的形状并不会影响a的形状，但是修改b的值会影响a的值\n",
    ">**2. 拷贝时对原数据创造副本，与原数据完全脱钩。**\n",
    ">>1. 拷贝（b=a.copy()）"
   ]
  },
  {
   "cell_type": "code",
   "execution_count": 16,
   "id": "4e127bb0",
   "metadata": {},
   "outputs": [
    {
     "name": "stdout",
     "output_type": "stream",
     "text": [
      "[[ 0  1  2  3]\n",
      " [ 4  5  6  7]\n",
      " [ 8  9 10 11]\n",
      " [12 13 14 15]]\n",
      "\n",
      "\n",
      "b的id： 2292759141808\n",
      "a的id： 2292759141808\n",
      "\n",
      "\n",
      "[[4 5]\n",
      " [8 9]]\n",
      "c的id： 2292759141232\n",
      "a的id： 2292759141808\n",
      "修改c的值将会影响a\n",
      "[[100   5]\n",
      " [  8   9]]\n",
      "[[  0   1   2   3]\n",
      " [100   5   6   7]\n",
      " [  8   9  10  11]\n",
      " [ 12  13  14  15]]\n",
      "\n",
      "\n",
      "[[  0   1   2   3]\n",
      " [100   5   6   7]\n",
      " [  8   9  10  11]\n",
      " [ 12  13  14  15]]\n",
      "d的id： 2292759140848\n",
      "a的id： 2292759141808\n",
      "\n",
      "\n",
      "改变d的形状不影响a，但是改变d的值会影响a\n",
      "[[  0   1   2   3 100   5   6   7]\n",
      " [  8   9  10  11  12  13  14  15]]\n",
      "[[  0   1   2   3]\n",
      " [100   5   6   7]\n",
      " [  8   9  10  11]\n",
      " [ 12  13  14  15]]\n",
      "\n",
      "\n",
      "[[300   1   2   3 100   5   6   7]\n",
      " [  8   9  10  11  12  13  14  15]]\n",
      "[[300   1   2   3]\n",
      " [100   5   6   7]\n",
      " [  8   9  10  11]\n",
      " [ 12  13  14  15]]\n",
      "\n",
      "\n",
      "[[300   1   2   3]\n",
      " [100   5   6   7]\n",
      " [  8   9  10  11]\n",
      " [ 12  13  14  15]]\n",
      "[[100   5]\n",
      " [  8   9]]\n"
     ]
    }
   ],
   "source": [
    "import numpy as np\n",
    "\n",
    "#创造一个4*4矩阵\n",
    "a = np.arange(16).reshape((4,4))\n",
    "print(a)\n",
    "print('\\n')\n",
    "\n",
    "#赋值操作\n",
    "b = a\n",
    "print(\"b的id：\" ,id(b))\n",
    "print(\"a的id：\" ,id(a))\n",
    "print('\\n')\n",
    "\n",
    "#切片操作\n",
    "c = a[1:3,0:2]\n",
    "print(c)\n",
    "print(\"c的id：\" ,id(c))\n",
    "print(\"a的id：\" ,id(a))\n",
    "print('修改c的值将会影响a')\n",
    "c[0,0] = 100\n",
    "print(c)\n",
    "print(a)\n",
    "print('\\n')\n",
    "\n",
    "#视图操作\n",
    "d = a.view()\n",
    "print(d)\n",
    "print(\"d的id：\" ,id(d))\n",
    "print(\"a的id：\" ,id(a))\n",
    "print('\\n')\n",
    "print('改变d的形状不影响a，但是改变d的值会影响a')\n",
    "d = d.reshape((2,8))\n",
    "print(d)\n",
    "print(a)\n",
    "print('\\n')\n",
    "d[0,0] = 300\n",
    "print(d)\n",
    "print(a)\n",
    "print('\\n')\n",
    "\n",
    "#复制操作，将生成与原数据完全脱钩的副本\n",
    "e = a.copy()\n",
    "print(e)\n",
    "\n",
    "f = a[1:3,0:2].copy() #甚至能copy切片\n",
    "print(f)"
   ]
  },
  {
   "cell_type": "markdown",
   "id": "731cb149",
   "metadata": {},
   "source": [
    "还有许多数组的操作函数可以查阅：https://numpy.org/doc/stable/reference/routines.html#routines 或 https://www.runoob.com/numpy/numpy-tutorial.html"
   ]
  },
  {
   "cell_type": "markdown",
   "id": "45bd18f5",
   "metadata": {},
   "source": [
    "## 6、广播原理 broadcasting\n",
    "### 用来处理两个形状不同的数组的运算，使形状不同的数组的形状变一致\n",
    ">**1. 两数组维度不相同，但在某维度具有相同的元素数：**\n",
    ">>![bc](https://numpy.org/doc/stable/_images/broadcasting_2.png)\n",
    ">**2. 两数组维度相同，但双方都有元素数为一的维度：**\n",
    ">>![bc](https://numpy.org/doc/stable/_images/broadcasting_4.png)\n",
    ">**3. 两数组不仅维度不相同，也没有相同的元素数，则广播会报错：**\n",
    ">>![bc](https://numpy.org/doc/stable/_images/broadcasting_3.png)"
   ]
  },
  {
   "cell_type": "markdown",
   "id": "8b06b125",
   "metadata": {},
   "source": [
    "## 7、高级索引与索引技巧\n",
    "> **索引也可以用整数数组和布尔数组索引**"
   ]
  },
  {
   "cell_type": "code",
   "execution_count": 41,
   "id": "716173c4",
   "metadata": {},
   "outputs": [
    {
     "name": "stdout",
     "output_type": "stream",
     "text": [
      "[[ 0  1  2  3]\n",
      " [ 4  5  6  7]\n",
      " [ 8  9 10 11]\n",
      " [12 13 14 15]\n",
      " [16 17 18 19]\n",
      " [20 21 22 23]\n",
      " [24 25 26 27]\n",
      " [28 29 30 31]]\n",
      "\n",
      "\n",
      "[ 0  3 28 31]\n",
      "\n",
      "\n",
      "[[0 0]\n",
      " [7 7]]\n",
      "[[0 3]\n",
      " [0 3]]\n",
      "\n",
      "\n",
      "[[ 0  3]\n",
      " [28 31]]\n",
      "\n",
      "\n",
      "[[5 6]\n",
      " [8 9]]\n",
      "[[5 6]\n",
      " [8 9]]\n",
      "[[2 3]\n",
      " [5 6]\n",
      " [8 9]]\n",
      "\n",
      "\n",
      "[ 9 10 11 12 13 14 15 16 17 18 19 20 21 22 23 24 25 26 27 28 29 30 31]\n",
      "[ 9 10 11 12 13 14 15 16 17 18 19 20 21 22 23 24 25 26 27 28 29 30 31]\n"
     ]
    }
   ],
   "source": [
    "import numpy as np\n",
    "\n",
    "#创建一个8*4的数组\n",
    "a = np.arange(32).reshape(8,4)\n",
    "print(a)\n",
    "print('\\n')\n",
    "\n",
    "\"\"\"用整数数组索引\"\"\"\n",
    "#用整数数组索引四个角的元素\n",
    "#方法一：a【【0轴坐标】，【1轴坐标】】\n",
    "b = a[[0,0,7,7],[0,3,0,3]]\n",
    "print(b)\n",
    "print('\\n')\n",
    "\n",
    "#方法二：a【【0轴坐标矩阵】，【1轴坐标矩阵】】\n",
    "row = np.array([[0,0],[7,7]])\n",
    "print(row)\n",
    "column = np.array([[0,3],[0,3]])\n",
    "print(column)\n",
    "print('\\n')\n",
    "c = a[row,column]\n",
    "print(c)\n",
    "print('\\n')\n",
    "\n",
    "#方法三：可以结合 ... 和 ：来索引\n",
    "d = np.array([[1,2,3], [4,5,6],[7,8,9]])\n",
    "e = d[1:3, 1:3]\n",
    "f = d[1:3,[1,2]]\n",
    "g = d[...,1:]\n",
    "print(e)\n",
    "print(f)\n",
    "print(g)\n",
    "print('\\n')\n",
    "\"\"\"\"\"\"\"\"\"\"\"\"\"\"\"\"\"\"\"\"\"\"\"\"\"\"\"\"\"\"\"\"\"\"\"\"\"\"\"\"\"\"\"\"\"\"\"\"\n",
    "\n",
    "\"\"\"用布尔索引\"\"\"\n",
    "d = a[ 8<a]\n",
    "print(d)\n",
    "\n",
    "e = a>8\n",
    "e\n",
    "print(a[e])"
   ]
  },
  {
   "cell_type": "code",
   "execution_count": null,
   "id": "e8346802",
   "metadata": {},
   "outputs": [],
   "source": []
  },
  {
   "cell_type": "code",
   "execution_count": null,
   "id": "90628a57",
   "metadata": {},
   "outputs": [],
   "source": []
  },
  {
   "cell_type": "code",
   "execution_count": null,
   "id": "7e4a46f7",
   "metadata": {},
   "outputs": [],
   "source": []
  },
  {
   "cell_type": "code",
   "execution_count": null,
   "id": "aa42927e",
   "metadata": {},
   "outputs": [],
   "source": []
  },
  {
   "cell_type": "code",
   "execution_count": null,
   "id": "9f46d8e6",
   "metadata": {},
   "outputs": [],
   "source": []
  },
  {
   "cell_type": "code",
   "execution_count": null,
   "id": "14977fc0",
   "metadata": {},
   "outputs": [],
   "source": []
  },
  {
   "cell_type": "code",
   "execution_count": null,
   "id": "a42729e6",
   "metadata": {},
   "outputs": [],
   "source": []
  },
  {
   "cell_type": "code",
   "execution_count": null,
   "id": "ee847842",
   "metadata": {},
   "outputs": [],
   "source": []
  }
 ],
 "metadata": {
  "kernelspec": {
   "display_name": "Python 3 (ipykernel)",
   "language": "python",
   "name": "python3"
  },
  "language_info": {
   "codemirror_mode": {
    "name": "ipython",
    "version": 3
   },
   "file_extension": ".py",
   "mimetype": "text/x-python",
   "name": "python",
   "nbconvert_exporter": "python",
   "pygments_lexer": "ipython3",
   "version": "3.9.7"
  }
 },
 "nbformat": 4,
 "nbformat_minor": 5
}
