{
 "cells": [
  {
   "cell_type": "markdown",
   "id": "49e725ba",
   "metadata": {},
   "source": [
    "# 1、opencv只显示最大距离为多少的深度图"
   ]
  },
  {
   "cell_type": "code",
   "execution_count": null,
   "id": "9d87a12d",
   "metadata": {},
   "outputs": [],
   "source": [
    "# 代码\n",
    "cv2.convertScaleAbs(depth, alpha=255/4*1000) # 显示深度图depth，且最大只显示到4m，大于4m的与4m颜色同"
   ]
  },
  {
   "cell_type": "markdown",
   "id": "95b2e81a",
   "metadata": {},
   "source": [
    "# 1、opencv伪色彩显示，将什么图以什么色彩模式显示\n",
    "https://blog.csdn.net/jningwei/article/details/78803669"
   ]
  },
  {
   "cell_type": "code",
   "execution_count": null,
   "id": "4e96d797",
   "metadata": {},
   "outputs": [],
   "source": [
    "# 代码\n",
    "cv2.applyColorMap(picture, cv2.COLORMAP_JET) # 将picture以cv2.COLORMAP_JET的颜色格式(热力图)显示"
   ]
  },
  {
   "cell_type": "code",
   "execution_count": null,
   "id": "e3241f15",
   "metadata": {},
   "outputs": [],
   "source": []
  },
  {
   "cell_type": "code",
   "execution_count": null,
   "id": "36944452",
   "metadata": {},
   "outputs": [],
   "source": []
  },
  {
   "cell_type": "code",
   "execution_count": null,
   "id": "4c9a00f1",
   "metadata": {},
   "outputs": [],
   "source": []
  },
  {
   "cell_type": "code",
   "execution_count": null,
   "id": "9a7e5e4e",
   "metadata": {},
   "outputs": [],
   "source": []
  },
  {
   "cell_type": "code",
   "execution_count": null,
   "id": "5aa22231",
   "metadata": {},
   "outputs": [],
   "source": []
  },
  {
   "cell_type": "code",
   "execution_count": null,
   "id": "95e0adb8",
   "metadata": {},
   "outputs": [],
   "source": []
  },
  {
   "cell_type": "code",
   "execution_count": null,
   "id": "9f4c8e99",
   "metadata": {},
   "outputs": [],
   "source": []
  },
  {
   "cell_type": "code",
   "execution_count": null,
   "id": "1280f1a6",
   "metadata": {},
   "outputs": [],
   "source": []
  }
 ],
 "metadata": {
  "kernelspec": {
   "display_name": "Python 3 (ipykernel)",
   "language": "python",
   "name": "python3"
  },
  "language_info": {
   "codemirror_mode": {
    "name": "ipython",
    "version": 3
   },
   "file_extension": ".py",
   "mimetype": "text/x-python",
   "name": "python",
   "nbconvert_exporter": "python",
   "pygments_lexer": "ipython3",
   "version": "3.9.7"
  }
 },
 "nbformat": 4,
 "nbformat_minor": 5
}
